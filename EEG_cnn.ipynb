{
 "cells": [
  {
   "cell_type": "markdown",
   "metadata": {},
   "source": [
    "### Load data"
   ]
  },
  {
   "cell_type": "code",
   "execution_count": 1,
   "metadata": {},
   "outputs": [
    {
     "name": "stdout",
     "output_type": "stream",
     "text": "[0 1 2 3]\n[0 1 2 3]\n"
    }
   ],
   "source": [
    "import numpy as np\n",
    "X_test = np.load(\"X_test.npy\")\n",
    "y_test = np.load(\"y_test.npy\")\n",
    "person_train_valid = np.load(\"person_train_valid.npy\")\n",
    "X_train_valid = np.load(\"X_train_valid.npy\")\n",
    "y_train_valid = np.load(\"y_train_valid.npy\")\n",
    "person_test = np.load(\"person_test.npy\")\n",
    "\n",
    "y_train_valid -= 769\n",
    "y_test -= 769\n",
    "\n",
    "\n",
    "print(np.unique(y_train_valid))\n",
    "print(np.unique(y_test))"
   ]
  },
  {
   "cell_type": "markdown",
   "metadata": {},
   "source": [
    "### Shape of data"
   ]
  },
  {
   "cell_type": "code",
   "execution_count": 2,
   "metadata": {},
   "outputs": [
    {
     "name": "stdout",
     "output_type": "stream",
     "text": "Training/Valid data shape: (2115, 22, 1000)\nTest data shape: (443, 22, 1000)\nTraining/Valid target shape: (2115,)\nTest target shape: (443,)\nPerson train/valid shape: (2115, 1)\nPerson test shape: (443, 1)\n"
    }
   ],
   "source": [
    "print ('Training/Valid data shape: {}'.format(X_train_valid.shape))\n",
    "print ('Test data shape: {}'.format(X_test.shape))\n",
    "print ('Training/Valid target shape: {}'.format(y_train_valid.shape))\n",
    "print ('Test target shape: {}'.format(y_test.shape))\n",
    "print ('Person train/valid shape: {}'.format(person_train_valid.shape))\n",
    "print ('Person test shape: {}'.format(person_test.shape))"
   ]
  },
  {
   "cell_type": "markdown",
   "metadata": {},
   "source": [
    "### Prepare Training Data"
   ]
  },
  {
   "cell_type": "code",
   "execution_count": 3,
   "metadata": {},
   "outputs": [],
   "source": [
    "import torch\n",
    "from torch.utils import data\n",
    "\n",
    "X_train_valid = torch.from_numpy(X_train_valid).float()\n",
    "y_train_valid = torch.from_numpy(y_train_valid).long()\n",
    "train_data = data.TensorDataset(X_train_valid, y_train_valid)\n",
    "\n",
    "person_train_valid = torch.from_numpy(person_train_valid)\n",
    "person_test = torch.from_numpy(person_test)"
   ]
  },
  {
   "cell_type": "code",
   "execution_count": 4,
   "metadata": {},
   "outputs": [],
   "source": [
    "import torchvision.transforms as transforms\n",
    "from torch.utils.data.sampler import SubsetRandomSampler\n",
    "\n",
    "batch_size = 128\n",
    "valid_size = 0.2\n",
    "\n",
    "\"\"\"\n",
    "# convert data to a normalized torch.FloatTensor\n",
    "transform = transforms.Compose([\n",
    "    transforms.ToTensor(),\n",
    "    transforms.Normalize((0.5, 0.5, 0.5), (0.5, 0.5, 0.5))\n",
    "    ])\n",
    "\"\"\"\n",
    "\n",
    "# obtain training indices that will be used for validation\n",
    "num_train = len(train_data)\n",
    "indices = list(range(num_train))\n",
    "np.random.shuffle(indices)\n",
    "split = int(np.floor(valid_size * num_train))\n",
    "train_idx, valid_idx = indices[split:], indices[:split]\n",
    "\n",
    "# define samplers for obtaining training and validation batches\n",
    "train_sampler = SubsetRandomSampler(train_idx)\n",
    "valid_sampler = SubsetRandomSampler(valid_idx)\n",
    "\n",
    "# prepare data loaders (combine dataset and sampler)\n",
    "train_loader = data.DataLoader(train_data, batch_size=batch_size, sampler=train_sampler)\n",
    "valid_loader = data.DataLoader(train_data, batch_size=batch_size, sampler=valid_sampler)"
   ]
  },
  {
   "cell_type": "markdown",
   "metadata": {},
   "source": [
    "## CNN Architecture"
   ]
  },
  {
   "cell_type": "markdown",
   "metadata": {},
   "source": [
    "### AlexNet (modified)"
   ]
  },
  {
   "cell_type": "code",
   "execution_count": 5,
   "metadata": {},
   "outputs": [
    {
     "name": "stdout",
     "output_type": "stream",
     "text": "cuda:0\nTraining on GPU ...\n"
    }
   ],
   "source": [
    "import torch\n",
    "\n",
    "train_on_gpu = torch.cuda.is_available()\n",
    "\n",
    "# check if CUDA is available\n",
    "device = torch.device(\"cuda:0\" if train_on_gpu else \"cpu\")\n",
    "print(device)\n",
    "if not train_on_gpu:\n",
    "    print('Training on CPU ...')\n",
    "else:\n",
    "    print('Training on GPU ...')"
   ]
  },
  {
   "cell_type": "code",
   "execution_count": 7,
   "metadata": {},
   "outputs": [],
   "source": [
    "import torch.nn as nn\n",
    "import torch.nn.functional as F\n",
    "\n",
    "class AlexNet(nn.Module):\n",
    "\n",
    "    def __init__(self, num_classes=4):\n",
    "        super(AlexNet, self).__init__()\n",
    "        self.features = nn.Sequential(\n",
    "            nn.Conv1d(22, 64, kernel_size=22, stride=2),\n",
    "            # want to capture relation in both dims, pad only time dim\n",
    "            nn.BatchNorm1d(64, affine=False),\n",
    "            nn.LeakyReLU(inplace=True),\n",
    "            nn.MaxPool1d(kernel_size=12, stride=2),\n",
    "            nn.Dropout(p=0.6),\n",
    "            nn.Conv1d(64, 192, kernel_size=12),\n",
    "            nn.BatchNorm1d(192, affine=False),\n",
    "            nn.LeakyReLU(inplace=True),\n",
    "            nn.MaxPool1d(kernel_size=3, stride=2),\n",
    "            nn.Dropout(p=0.6),\n",
    "            nn.Conv1d(192, 384, kernel_size=4, stride=2),\n",
    "            nn.BatchNorm1d(384, affine=False),\n",
    "            nn.LeakyReLU(inplace=True),\n",
    "            nn.Dropout(p=0.6),\n",
    "            nn.Conv1d(384, 256, kernel_size=4, stride=2),\n",
    "            nn.BatchNorm1d(256, affine=False),\n",
    "            nn.LeakyReLU(inplace=True),\n",
    "            nn.Dropout(p=0.6),\n",
    "            nn.Conv1d(256, 256, kernel_size=4),\n",
    "            nn.BatchNorm1d(256, affine=False),\n",
    "            nn.LeakyReLU(inplace=True),\n",
    "            nn.MaxPool1d(kernel_size=4, stride=1),\n",
    "            \n",
    "        )\n",
    "        self.classifier = nn.Sequential(\n",
    "            nn.Dropout(),\n",
    "            nn.BatchNorm1d(256 * 21),\n",
    "            nn.LeakyReLU(inplace=True),\n",
    "            nn.BatchNorm1d(256 * 21),\n",
    "            nn.LeakyReLU(inplace=True),\n",
    "            nn.Linear(256 * 21, num_classes),\n",
    "        )\n",
    "\n",
    "    def forward(self, x):\n",
    "        x = self.features(x)\n",
    "        x = torch.flatten(x, 1)\n",
    "        x = self.classifier(x)\n",
    "        return x\n",
    "\n",
    "# create a complete CNN\n",
    "model = AlexNet()\n",
    "\n",
    "# move tensors to GPU if CUDA is available\n",
    "if train_on_gpu:\n",
    "    model.cuda()"
   ]
  },
  {
   "cell_type": "markdown",
   "metadata": {},
   "source": [
    "### Train the Model"
   ]
  },
  {
   "cell_type": "code",
   "execution_count": 11,
   "metadata": {},
   "outputs": [],
   "source": [
    "import torch.optim as optim\n",
    "\n",
    "criterion = nn.CrossEntropyLoss()\n",
    "optimizer = optim.Adam(model.parameters(), weight_decay=0.0005, lr=1e-3)"
   ]
  },
  {
   "cell_type": "code",
   "execution_count": 13,
   "metadata": {},
   "outputs": [
    {
     "name": "stdout",
     "output_type": "stream",
     "text": "Epoch: 1 \tTraining Loss: 0.533812 \tValidation Loss: 0.892710\nValidation loss decreased (1.027166 --> 0.892710).  Saving model ...\nEpoch: 2 \tTraining Loss: 0.486990 \tValidation Loss: 0.930557\nEpoch: 3 \tTraining Loss: 0.420447 \tValidation Loss: 0.945232\nEpoch: 4 \tTraining Loss: 0.467292 \tValidation Loss: 0.921304\nEpoch: 5 \tTraining Loss: 0.467665 \tValidation Loss: 0.947924\nEpoch: 6 \tTraining Loss: 0.437161 \tValidation Loss: 0.932468\nEpoch: 7 \tTraining Loss: 0.391329 \tValidation Loss: 0.924639\nEpoch: 8 \tTraining Loss: 0.396134 \tValidation Loss: 0.957915\nEpoch: 9 \tTraining Loss: 0.428465 \tValidation Loss: 0.983101\nEpoch: 10 \tTraining Loss: 0.424010 \tValidation Loss: 0.936174\nEpoch: 11 \tTraining Loss: 0.405984 \tValidation Loss: 0.961260\nEpoch: 12 \tTraining Loss: 0.372738 \tValidation Loss: 0.972351\nEpoch: 13 \tTraining Loss: 0.352774 \tValidation Loss: 0.951336\nEpoch: 14 \tTraining Loss: 0.354456 \tValidation Loss: 0.961739\nEpoch: 15 \tTraining Loss: 0.371419 \tValidation Loss: 0.948038\nEpoch: 16 \tTraining Loss: 0.338365 \tValidation Loss: 0.957575\nEpoch: 17 \tTraining Loss: 0.339381 \tValidation Loss: 0.943610\nEpoch: 18 \tTraining Loss: 0.336397 \tValidation Loss: 0.952357\nEpoch: 19 \tTraining Loss: 0.358366 \tValidation Loss: 0.956608\nEpoch: 20 \tTraining Loss: 0.317892 \tValidation Loss: 0.923852\nEpoch: 21 \tTraining Loss: 0.347764 \tValidation Loss: 0.950911\nEpoch: 22 \tTraining Loss: 0.314410 \tValidation Loss: 0.952966\nEpoch: 23 \tTraining Loss: 0.334049 \tValidation Loss: 0.938968\nEpoch: 24 \tTraining Loss: 0.318099 \tValidation Loss: 0.955069\nEpoch: 25 \tTraining Loss: 0.323487 \tValidation Loss: 0.979477\nEpoch: 26 \tTraining Loss: 0.332703 \tValidation Loss: 0.960916\nEpoch: 27 \tTraining Loss: 0.328498 \tValidation Loss: 0.958643\nEpoch: 28 \tTraining Loss: 0.333792 \tValidation Loss: 0.927286\nEpoch: 29 \tTraining Loss: 0.337708 \tValidation Loss: 0.930044\nEpoch: 30 \tTraining Loss: 0.306695 \tValidation Loss: 0.951430\n"
    }
   ],
   "source": [
    "# number of epochs to train the model\n",
    "n_epochs = 300\n",
    "\n",
    "valid_loss_min = np.Inf # track change in validation loss\n",
    "\n",
    "for epoch in range(1, n_epochs+1):\n",
    "\n",
    "    # keep track of training and validation loss\n",
    "    train_loss = 0.0\n",
    "    valid_loss = 0.0\n",
    "    \n",
    "    ###################\n",
    "    # train the model #\n",
    "    ###################\n",
    "    model.train()\n",
    "    for data, target in train_loader:\n",
    "        if train_on_gpu:\n",
    "            data, target = data.cuda(), target.cuda()\n",
    "        optimizer.zero_grad()\n",
    "        output = model(data)\n",
    "        loss = criterion(output, target)\n",
    "        #print(target.data)\n",
    "        loss.backward()\n",
    "        optimizer.step()\n",
    "        train_loss += loss.item()*data.size(0)\n",
    "        \n",
    "    ######################    \n",
    "    # validate the model #\n",
    "    ######################\n",
    "    model.eval()\n",
    "    for data, target in valid_loader:\n",
    "        if train_on_gpu:\n",
    "            data, target = data.cuda(), target.cuda()\n",
    "        output = model(data)\n",
    "        loss = criterion(output, target)\n",
    "        valid_loss += loss.item()*data.size(0)\n",
    "    \n",
    "    # calculate average losses\n",
    "    train_loss = train_loss/len(train_loader.sampler)\n",
    "    valid_loss = valid_loss/len(valid_loader.sampler)\n",
    "        \n",
    "    # print training/validation statistics \n",
    "    print('Epoch: {} \\tTraining Loss: {:.6f} \\tValidation Loss: {:.6f}'.format(\n",
    "        epoch, train_loss, valid_loss))\n",
    "    \n",
    "    # save model if validation loss has decreased\n",
    "    if valid_loss <= valid_loss_min:\n",
    "        print('Validation loss decreased ({:.6f} --> {:.6f}).  Saving model ...'.format(\n",
    "        valid_loss_min,\n",
    "        valid_loss))\n",
    "        torch.save(model.state_dict(), 'model_cifar.pt')\n",
    "        valid_loss_min = valid_loss"
   ]
  },
  {
   "cell_type": "markdown",
   "metadata": {},
   "source": [
    "### Load the Model with the Lowest Validation Loss"
   ]
  },
  {
   "cell_type": "code",
   "execution_count": 14,
   "metadata": {},
   "outputs": [
    {
     "data": {
      "text/plain": "<All keys matched successfully>"
     },
     "execution_count": 14,
     "metadata": {},
     "output_type": "execute_result"
    }
   ],
   "source": [
    "model.load_state_dict(torch.load('model_cifar.pt'))"
   ]
  },
  {
   "cell_type": "markdown",
   "metadata": {},
   "source": [
    "### Test the Trained Network"
   ]
  },
  {
   "cell_type": "code",
   "execution_count": 9,
   "metadata": {},
   "outputs": [],
   "source": [
    "from torch.utils import data\n",
    "\n",
    "batch_size = 200\n",
    "\n",
    "X_test = torch.from_numpy(X_test).float()\n",
    "y_test = torch.from_numpy(y_test).long()\n",
    "test_data = data.TensorDataset(X_test, y_test)\n",
    "\n",
    "test_loader = data.DataLoader(test_data, batch_size=batch_size)"
   ]
  },
  {
   "cell_type": "code",
   "execution_count": 15,
   "metadata": {},
   "outputs": [
    {
     "name": "stdout",
     "output_type": "stream",
     "text": "Test Loss: 1.106453\n\nTest Accuracy of   769: 65% (73/111)\nTest Accuracy of   770: 41% (53/127)\nTest Accuracy of   771: 31% (30/96)\nTest Accuracy of   772: 85% (93/109)\n\nTest Accuracy (Overall): 56% (249/443)\n"
    }
   ],
   "source": [
    "# specify the target classes\n",
    "classes = [769, 770, 771, 772]\n",
    "\n",
    "# track test loss\n",
    "test_loss = 0.0\n",
    "class_correct = list(0. for i in range(4))\n",
    "class_total = list(0. for i in range(4))\n",
    "\n",
    "model.eval()\n",
    "for data, target in test_loader:\n",
    "    if train_on_gpu:\n",
    "        data, target = data.cuda(), target.cuda()\n",
    "    output = model(data)\n",
    "    loss = criterion(output, target)\n",
    "    # update test loss \n",
    "    test_loss += loss.item()*data.size(0)\n",
    "    # convert output probabilities to predicted class\n",
    "    _, pred = torch.max(output, 1)\n",
    "    #print(pred)\n",
    "    # compare predictions to true label\n",
    "    correct_tensor = pred.eq(target.data.view_as(pred))\n",
    "    correct = np.squeeze(correct_tensor.numpy()) if not train_on_gpu else np.squeeze(correct_tensor.cpu().numpy())\n",
    "    # calculate test accuracy for each object class\n",
    "    for i in range(correct.shape[0]):\n",
    "        label = target.data[i]\n",
    "        class_correct[label] += correct[i].item()\n",
    "        class_total[label] += 1\n",
    "# average test loss\n",
    "test_loss = test_loss/len(test_loader.dataset)\n",
    "print('Test Loss: {:.6f}\\n'.format(test_loss))\n",
    "\n",
    "for i in range(4):\n",
    "    if class_total[i] > 0:\n",
    "        print('Test Accuracy of %5s: %2d%% (%2d/%2d)' % (\n",
    "            classes[i], 100 * class_correct[i] / class_total[i],\n",
    "            np.sum(class_correct[i]), np.sum(class_total[i])))\n",
    "    else:\n",
    "        print('Test Accuracy of %5s: N/A (no training examples)' % (classes[i]))\n",
    "\n",
    "print('\\nTest Accuracy (Overall): %2d%% (%2d/%2d)' % (\n",
    "    100. * np.sum(class_correct) / np.sum(class_total),\n",
    "    np.sum(class_correct), np.sum(class_total)))"
   ]
  },
  {
   "cell_type": "code",
   "execution_count": null,
   "metadata": {},
   "outputs": [],
   "source": []
  }
 ],
 "metadata": {
  "kernelspec": {
   "display_name": "Python 3",
   "language": "python",
   "name": "python3"
  },
  "language_info": {
   "codemirror_mode": {
    "name": "ipython",
    "version": 2
   },
   "file_extension": ".py",
   "mimetype": "text/x-python",
   "name": "python",
   "nbconvert_exporter": "python",
   "pygments_lexer": "ipython2",
   "version": "3.8.1-final"
  }
 },
 "nbformat": 4,
 "nbformat_minor": 2
}